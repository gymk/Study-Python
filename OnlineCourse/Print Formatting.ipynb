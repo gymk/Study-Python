{
 "cells": [
  {
   "cell_type": "code",
   "execution_count": 8,
   "metadata": {},
   "outputs": [
    {
     "name": "stdout",
     "output_type": "stream",
     "text": [
      "Value of s:ring\n"
     ]
    }
   ],
   "source": [
    "s = 'String123'\n",
    "print('Value of s:{x}'.format(x=s[2:6]))"
   ]
  },
  {
   "cell_type": "code",
   "execution_count": 24,
   "metadata": {},
   "outputs": [
    {
     "name": "stdout",
     "output_type": "stream",
     "text": [
      "Float: {12223.133330000000569270923734} {0.1000000000000000055511151}\n"
     ]
    }
   ],
   "source": [
    "print('Float: {%024.24f} {%12.25f}' %(12223.13333, 0.1))"
   ]
  },
  {
   "cell_type": "code",
   "execution_count": 26,
   "metadata": {},
   "outputs": [
    {
     "name": "stdout",
     "output_type": "stream",
     "text": [
      "Float: {                12223.13} {        0.10}\n"
     ]
    }
   ],
   "source": [
    "print('Float: {%24.2f} {%12.2f}' %(12223.13333, 0.1))"
   ]
  },
  {
   "cell_type": "code",
   "execution_count": 48,
   "metadata": {},
   "outputs": [
    {
     "name": "stdout",
     "output_type": "stream",
     "text": [
      "FLoat: { 12} {12.100000000000}\n"
     ]
    }
   ],
   "source": [
    "print('FLoat: {%3d} {%12.12f}' %(12.12, 12.1))"
   ]
  },
  {
   "cell_type": "code",
   "execution_count": 45,
   "metadata": {},
   "outputs": [
    {
     "name": "stdout",
     "output_type": "stream",
     "text": [
      "Integer format: 3\n"
     ]
    }
   ],
   "source": [
    "print('Integer format: {a}'.format(a=int(3.9)))"
   ]
  },
  {
   "cell_type": "code",
   "execution_count": 51,
   "metadata": {},
   "outputs": [
    {
     "name": "stdout",
     "output_type": "stream",
     "text": [
      "a = {10} b = {20}\n",
      "a = {10} b = {20}\n",
      "a = {30} b = {40}\n"
     ]
    }
   ],
   "source": [
    "a = 10\n",
    "b = 20\n",
    "s = 'a = {%d} b = {%d}' %(a, b)\n",
    "print(s)\n",
    "a = 30\n",
    "b = 40\n",
    "print(s)\n",
    "s = 'a = {%d} b = {%d}' %(a, b)\n",
    "print(s)"
   ]
  },
  {
   "cell_type": "code",
   "execution_count": 66,
   "metadata": {},
   "outputs": [
    {
     "ename": "ValueError",
     "evalue": "Unknown format code 'd' for object of type 'float'",
     "output_type": "error",
     "traceback": [
      "\u001b[0;31m---------------------------------------------------------------------------\u001b[0m",
      "\u001b[0;31mValueError\u001b[0m                                Traceback (most recent call last)",
      "\u001b[0;32m<ipython-input-66-caafaf7f7b1c>\u001b[0m in \u001b[0;36m<module>\u001b[0;34m()\u001b[0m\n\u001b[0;32m----> 1\u001b[0;31m \u001b[0mprint\u001b[0m\u001b[0;34m(\u001b[0m\u001b[0;34m'Python way of Formatting: {0:5d} {1:12.12f}'\u001b[0m\u001b[0;34m.\u001b[0m\u001b[0mformat\u001b[0m\u001b[0;34m(\u001b[0m\u001b[0;36m12.12\u001b[0m\u001b[0;34m,\u001b[0m\u001b[0;36m12.12\u001b[0m\u001b[0;34m)\u001b[0m\u001b[0;34m)\u001b[0m\u001b[0;34m\u001b[0m\u001b[0m\n\u001b[0m",
      "\u001b[0;31mValueError\u001b[0m: Unknown format code 'd' for object of type 'float'"
     ]
    }
   ],
   "source": [
    "print('Python way of Formatting: {0:5d} {1:12.12f}'.format(12.12,12.12))"
   ]
  },
  {
   "cell_type": "code",
   "execution_count": 84,
   "metadata": {},
   "outputs": [
    {
     "name": "stdout",
     "output_type": "stream",
     "text": [
      "First Arg: one Second Arg: two\n",
      "First Arg: one Second Arg: two\n",
      "First Arg: 1 Second Arg: 2\n",
      "First Arg: 1 Second Arg: 2.0\n",
      "First Arg:     1 Second Arg: 2.000\n",
      "First Arg:     1 SEcond Arg: 2.000\n",
      "Pythin way of Formatting:    12 12.120000000000\n",
      "Pythin way of Formatting:    12 12.12\n",
      "Pythin way of Formatting:    12 12.120000000000\n"
     ]
    }
   ],
   "source": [
    "print(\"First Arg: {} Second Arg: {}\".format('one','two'))\n",
    "print(\"First Arg: {0} Second Arg: {1}\".format('one','two'))\n",
    "print(\"First Arg: {0} Second Arg: {1}\".format(1,2))\n",
    "print(\"First Arg: {0} Second Arg: {1}\".format(1,2.0))\n",
    "print(\"First Arg: {0:5d} Second Arg: {1:3.3f}\".format(1,2.0))\n",
    "print('First Arg: {0:5d} SEcond Arg: {1:3.3f}'.format(1,2.0))\n",
    "print('Pythin way of Formatting: {0:5d} {1:12.12f}'.format(12,12.12))\n",
    "print('Pythin way of Formatting: {0:5d} {1}'.format(12,12.12))\n",
    "print('Pythin way of Formatting: {0:>5d} {1:>12.12f}'.format(12,12.12))"
   ]
  },
  {
   "cell_type": "markdown",
   "metadata": {},
   "source": [
    "### https://www.python-course.eu/python3_formatted_output.php\n",
    "#### Check in this site for more format information\n",
    "\n",
    "### https://pyformat.info/\n",
    "#### Also check above as well"
   ]
  }
 ],
 "metadata": {
  "kernelspec": {
   "display_name": "Python 3",
   "language": "python",
   "name": "python3"
  },
  "language_info": {
   "codemirror_mode": {
    "name": "ipython",
    "version": 3
   },
   "file_extension": ".py",
   "mimetype": "text/x-python",
   "name": "python",
   "nbconvert_exporter": "python",
   "pygments_lexer": "ipython3",
   "version": "3.5.3"
  }
 },
 "nbformat": 4,
 "nbformat_minor": 2
}
