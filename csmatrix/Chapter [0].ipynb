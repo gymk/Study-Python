{
 "cells": [
  {
   "cell_type": "code",
   "execution_count": 2,
   "metadata": {},
   "outputs": [
    {
     "name": "stdout",
     "output_type": "stream",
     "text": [
      "518400\n"
     ]
    }
   ],
   "source": [
    "# Task 0.5.1\n",
    "one_hour = 60\n",
    "one_day = 12 * one_hour\n",
    "one_week = one_day * one_day\n",
    "print(one_week)"
   ]
  },
  {
   "cell_type": "code",
   "execution_count": 8,
   "metadata": {},
   "outputs": [
    {
     "name": "stdout",
     "output_type": "stream",
     "text": [
      "0\n",
      "1\n",
      "25\n"
     ]
    }
   ],
   "source": [
    "# Task 0.5.2\n",
    "def get_remainder(num,denom):\n",
    "    return(num-(denom * int(num/denom)))\n",
    "\n",
    "print(get_remainder(4,4))\n",
    "print(get_remainder(5,4))\n",
    "print(get_remainder(2304811,47))"
   ]
  },
  {
   "cell_type": "code",
   "execution_count": 12,
   "metadata": {},
   "outputs": [
    {
     "name": "stdout",
     "output_type": "stream",
     "text": [
      "False\n",
      "1\n",
      "0\n"
     ]
    }
   ],
   "source": [
    "# Task 0.5.3\n",
    "print((((673%3) == 0) and ((909%3) == 0)))\n",
    "print((673%3))\n",
    "print((909%3))"
   ]
  },
  {
   "cell_type": "code",
   "execution_count": 13,
   "metadata": {},
   "outputs": [
    {
     "name": "stdout",
     "output_type": "stream",
     "text": [
      "1.0\n"
     ]
    }
   ],
   "source": [
    "# Task 0.5.4\n",
    "x = -9\n",
    "y = 1/2\n",
    "val = 2**(y+1/2) if x+10<0 else 2**(y-1/2)\n",
    "print(val)"
   ]
  },
  {
   "cell_type": "code",
   "execution_count": 14,
   "metadata": {},
   "outputs": [
    {
     "data": {
      "text/plain": [
       "{1, 4, 9, 16, 25}"
      ]
     },
     "execution_count": 14,
     "metadata": {},
     "output_type": "execute_result"
    }
   ],
   "source": [
    "# Task 0.5.5\n",
    "{x*x for x in {1,2,3,4,5}}"
   ]
  },
  {
   "cell_type": "code",
   "execution_count": 15,
   "metadata": {},
   "outputs": [
    {
     "data": {
      "text/plain": [
       "{1, 2, 4, 8, 16}"
      ]
     },
     "execution_count": 15,
     "metadata": {},
     "output_type": "execute_result"
    }
   ],
   "source": [
    "# Task 0.5.6\n",
    "{2**x for x in {0,1,2,3,4}}"
   ]
  },
  {
   "cell_type": "code",
   "execution_count": 20,
   "metadata": {},
   "outputs": [
    {
     "data": {
      "text/plain": [
       "{10, 12, 14, 15, 18, 20, 21, 24, 28}"
      ]
     },
     "execution_count": 20,
     "metadata": {},
     "output_type": "execute_result"
    }
   ],
   "source": [
    "# Task 0.5.7\n",
    "{x*y for x in {2,3,4} for y in {5,6,7}}"
   ]
  },
  {
   "cell_type": "code",
   "execution_count": 25,
   "metadata": {},
   "outputs": [
    {
     "data": {
      "text/plain": [
       "{-5, -4, -3, -2, -1}"
      ]
     },
     "execution_count": 25,
     "metadata": {},
     "output_type": "execute_result"
    }
   ],
   "source": [
    "# Task 0.5.8\n",
    "{x*y for x in {1,2,3,4,5} for y in {-1}}"
   ]
  },
  {
   "cell_type": "code",
   "execution_count": 29,
   "metadata": {},
   "outputs": [
    {
     "name": "stdout",
     "output_type": "stream",
     "text": [
      "{3, 4, 5}\n",
      "{3, 4, 5}\n"
     ]
    }
   ],
   "source": [
    "# Task 0.5.9\n",
    "S = {1,2,3,4,5}\n",
    "T = {3,4,5,6}\n",
    "print(S & T)\n",
    "print({x for x in S if x in T})"
   ]
  },
  {
   "cell_type": "code",
   "execution_count": null,
   "metadata": {},
   "outputs": [],
   "source": [
    "# Task 0.5.10\n",
    "l = [20,10,15,75]\n",
    "print(sum(l)/len(l))"
   ]
  },
  {
   "cell_type": "code",
   "execution_count": 34,
   "metadata": {},
   "outputs": [
    {
     "data": {
      "text/plain": [
       "[['A', 1],\n",
       " ['A', 2],\n",
       " ['A', 3],\n",
       " ['B', 1],\n",
       " ['B', 2],\n",
       " ['B', 3],\n",
       " ['C', 1],\n",
       " ['C', 2],\n",
       " ['C', 3]]"
      ]
     },
     "execution_count": 34,
     "metadata": {},
     "output_type": "execute_result"
    }
   ],
   "source": [
    "# Task 0.5.11\n",
    "[[x,y] for x in ['A','B','C'] for y in [1,2,3]]"
   ]
  },
  {
   "cell_type": "code",
   "execution_count": 38,
   "metadata": {},
   "outputs": [
    {
     "name": "stdout",
     "output_type": "stream",
     "text": [
      "[1, 2, 3, 4, 5, 6, 7, 8, 9]\n",
      "45\n"
     ]
    }
   ],
   "source": [
    "# Task 0.5.12\n",
    "LofL = [[1,2,3],[4,5,6],[7,8,9]]\n",
    "print(sum(LofL,[]))\n",
    "print(sum(sum(LofL,[])))"
   ]
  },
  {
   "cell_type": "code",
   "execution_count": 43,
   "metadata": {},
   "outputs": [
    {
     "ename": "ValueError",
     "evalue": "not enough values to unpack (expected 3, got 2)",
     "output_type": "error",
     "traceback": [
      "\u001b[0;31m---------------------------------------------------------------------------\u001b[0m",
      "\u001b[0;31mValueError\u001b[0m                                Traceback (most recent call last)",
      "\u001b[0;32m<ipython-input-43-a6b86c3649b3>\u001b[0m in \u001b[0;36m<module>\u001b[0;34m()\u001b[0m\n\u001b[1;32m      1\u001b[0m \u001b[0;31m# Tasl 0.5.13\u001b[0m\u001b[0;34m\u001b[0m\u001b[0;34m\u001b[0m\u001b[0m\n\u001b[0;32m----> 2\u001b[0;31m \u001b[0;34m[\u001b[0m\u001b[0mx\u001b[0m\u001b[0;34m,\u001b[0m\u001b[0my\u001b[0m\u001b[0;34m,\u001b[0m\u001b[0mz\u001b[0m\u001b[0;34m]\u001b[0m \u001b[0;34m=\u001b[0m \u001b[0;34m[\u001b[0m\u001b[0;36m2\u001b[0m\u001b[0;34m*\u001b[0m\u001b[0;36m2\u001b[0m\u001b[0;34m,\u001b[0m\u001b[0;36m3\u001b[0m\u001b[0;34m*\u001b[0m\u001b[0;36m2\u001b[0m\u001b[0;34m]\u001b[0m\u001b[0;34m\u001b[0m\u001b[0m\n\u001b[0m",
      "\u001b[0;31mValueError\u001b[0m: not enough values to unpack (expected 3, got 2)"
     ]
    }
   ],
   "source": [
    "# Task 0.5.13\n",
    "[x,y,z] = [2*2,3*2]"
   ]
  },
  {
   "cell_type": "code",
   "execution_count": 53,
   "metadata": {},
   "outputs": [
    {
     "data": {
      "text/plain": [
       "[(0, 0, 0),\n",
       " (0, 2, -2),\n",
       " (0, -2, 2),\n",
       " (1, 1, -2),\n",
       " (1, -2, 1),\n",
       " (2, 0, -2),\n",
       " (2, 2, -4),\n",
       " (2, -4, 2),\n",
       " (2, -2, 0),\n",
       " (-4, 2, 2),\n",
       " (-2, 0, 2),\n",
       " (-2, 1, 1),\n",
       " (-2, 2, 0)]"
      ]
     },
     "execution_count": 53,
     "metadata": {},
     "output_type": "execute_result"
    }
   ],
   "source": [
    "# Task 0.5.14\n",
    "def my_triple_sum(i,j,k):\n",
    "    return(i+j+k)\n",
    "\n",
    "S = {-4,-2,1,2,5,0}\n",
    "[(i,j,k) for i in S for j in S for k in S if my_triple_sum(i,j,k) == 0]"
   ]
  },
  {
   "cell_type": "code",
   "execution_count": 54,
   "metadata": {},
   "outputs": [
    {
     "data": {
      "text/plain": [
       "[(0, 0, 1),\n",
       " (0, 0, 2),\n",
       " (0, 0, 5),\n",
       " (0, 0, -4),\n",
       " (0, 0, -2),\n",
       " (0, 1, 0),\n",
       " (0, 1, 1),\n",
       " (0, 1, 2),\n",
       " (0, 1, 5),\n",
       " (0, 1, -4),\n",
       " (0, 1, -2),\n",
       " (0, 2, 0),\n",
       " (0, 2, 1),\n",
       " (0, 2, 2),\n",
       " (0, 2, 5),\n",
       " (0, 2, -4),\n",
       " (0, 5, 0),\n",
       " (0, 5, 1),\n",
       " (0, 5, 2),\n",
       " (0, 5, 5),\n",
       " (0, 5, -4),\n",
       " (0, 5, -2),\n",
       " (0, -4, 0),\n",
       " (0, -4, 1),\n",
       " (0, -4, 2),\n",
       " (0, -4, 5),\n",
       " (0, -4, -4),\n",
       " (0, -4, -2),\n",
       " (0, -2, 0),\n",
       " (0, -2, 1),\n",
       " (0, -2, 5),\n",
       " (0, -2, -4),\n",
       " (0, -2, -2),\n",
       " (1, 0, 0),\n",
       " (1, 0, 1),\n",
       " (1, 0, 2),\n",
       " (1, 0, 5),\n",
       " (1, 0, -4),\n",
       " (1, 0, -2),\n",
       " (1, 1, 0),\n",
       " (1, 1, 1),\n",
       " (1, 1, 2),\n",
       " (1, 1, 5),\n",
       " (1, 1, -4),\n",
       " (1, 2, 0),\n",
       " (1, 2, 1),\n",
       " (1, 2, 2),\n",
       " (1, 2, 5),\n",
       " (1, 2, -4),\n",
       " (1, 2, -2),\n",
       " (1, 5, 0),\n",
       " (1, 5, 1),\n",
       " (1, 5, 2),\n",
       " (1, 5, 5),\n",
       " (1, 5, -4),\n",
       " (1, 5, -2),\n",
       " (1, -4, 0),\n",
       " (1, -4, 1),\n",
       " (1, -4, 2),\n",
       " (1, -4, 5),\n",
       " (1, -4, -4),\n",
       " (1, -4, -2),\n",
       " (1, -2, 0),\n",
       " (1, -2, 2),\n",
       " (1, -2, 5),\n",
       " (1, -2, -4),\n",
       " (1, -2, -2),\n",
       " (2, 0, 0),\n",
       " (2, 0, 1),\n",
       " (2, 0, 2),\n",
       " (2, 0, 5),\n",
       " (2, 0, -4),\n",
       " (2, 1, 0),\n",
       " (2, 1, 1),\n",
       " (2, 1, 2),\n",
       " (2, 1, 5),\n",
       " (2, 1, -4),\n",
       " (2, 1, -2),\n",
       " (2, 2, 0),\n",
       " (2, 2, 1),\n",
       " (2, 2, 2),\n",
       " (2, 2, 5),\n",
       " (2, 2, -2),\n",
       " (2, 5, 0),\n",
       " (2, 5, 1),\n",
       " (2, 5, 2),\n",
       " (2, 5, 5),\n",
       " (2, 5, -4),\n",
       " (2, 5, -2),\n",
       " (2, -4, 0),\n",
       " (2, -4, 1),\n",
       " (2, -4, 5),\n",
       " (2, -4, -4),\n",
       " (2, -4, -2),\n",
       " (2, -2, 1),\n",
       " (2, -2, 2),\n",
       " (2, -2, 5),\n",
       " (2, -2, -4),\n",
       " (2, -2, -2),\n",
       " (5, 0, 0),\n",
       " (5, 0, 1),\n",
       " (5, 0, 2),\n",
       " (5, 0, 5),\n",
       " (5, 0, -4),\n",
       " (5, 0, -2),\n",
       " (5, 1, 0),\n",
       " (5, 1, 1),\n",
       " (5, 1, 2),\n",
       " (5, 1, 5),\n",
       " (5, 1, -4),\n",
       " (5, 1, -2),\n",
       " (5, 2, 0),\n",
       " (5, 2, 1),\n",
       " (5, 2, 2),\n",
       " (5, 2, 5),\n",
       " (5, 2, -4),\n",
       " (5, 2, -2),\n",
       " (5, 5, 0),\n",
       " (5, 5, 1),\n",
       " (5, 5, 2),\n",
       " (5, 5, 5),\n",
       " (5, 5, -4),\n",
       " (5, 5, -2),\n",
       " (5, -4, 0),\n",
       " (5, -4, 1),\n",
       " (5, -4, 2),\n",
       " (5, -4, 5),\n",
       " (5, -4, -4),\n",
       " (5, -4, -2),\n",
       " (5, -2, 0),\n",
       " (5, -2, 1),\n",
       " (5, -2, 2),\n",
       " (5, -2, 5),\n",
       " (5, -2, -4),\n",
       " (5, -2, -2),\n",
       " (-4, 0, 0),\n",
       " (-4, 0, 1),\n",
       " (-4, 0, 2),\n",
       " (-4, 0, 5),\n",
       " (-4, 0, -4),\n",
       " (-4, 0, -2),\n",
       " (-4, 1, 0),\n",
       " (-4, 1, 1),\n",
       " (-4, 1, 2),\n",
       " (-4, 1, 5),\n",
       " (-4, 1, -4),\n",
       " (-4, 1, -2),\n",
       " (-4, 2, 0),\n",
       " (-4, 2, 1),\n",
       " (-4, 2, 5),\n",
       " (-4, 2, -4),\n",
       " (-4, 2, -2),\n",
       " (-4, 5, 0),\n",
       " (-4, 5, 1),\n",
       " (-4, 5, 2),\n",
       " (-4, 5, 5),\n",
       " (-4, 5, -4),\n",
       " (-4, 5, -2),\n",
       " (-4, -4, 0),\n",
       " (-4, -4, 1),\n",
       " (-4, -4, 2),\n",
       " (-4, -4, 5),\n",
       " (-4, -4, -4),\n",
       " (-4, -4, -2),\n",
       " (-4, -2, 0),\n",
       " (-4, -2, 1),\n",
       " (-4, -2, 2),\n",
       " (-4, -2, 5),\n",
       " (-4, -2, -4),\n",
       " (-4, -2, -2),\n",
       " (-2, 0, 0),\n",
       " (-2, 0, 1),\n",
       " (-2, 0, 5),\n",
       " (-2, 0, -4),\n",
       " (-2, 0, -2),\n",
       " (-2, 1, 0),\n",
       " (-2, 1, 2),\n",
       " (-2, 1, 5),\n",
       " (-2, 1, -4),\n",
       " (-2, 1, -2),\n",
       " (-2, 2, 1),\n",
       " (-2, 2, 2),\n",
       " (-2, 2, 5),\n",
       " (-2, 2, -4),\n",
       " (-2, 2, -2),\n",
       " (-2, 5, 0),\n",
       " (-2, 5, 1),\n",
       " (-2, 5, 2),\n",
       " (-2, 5, 5),\n",
       " (-2, 5, -4),\n",
       " (-2, 5, -2),\n",
       " (-2, -4, 0),\n",
       " (-2, -4, 1),\n",
       " (-2, -4, 2),\n",
       " (-2, -4, 5),\n",
       " (-2, -4, -4),\n",
       " (-2, -4, -2),\n",
       " (-2, -2, 0),\n",
       " (-2, -2, 1),\n",
       " (-2, -2, 2),\n",
       " (-2, -2, 5),\n",
       " (-2, -2, -4),\n",
       " (-2, -2, -2)]"
      ]
     },
     "execution_count": 54,
     "metadata": {},
     "output_type": "execute_result"
    }
   ],
   "source": [
    "# Task 0.5.15\n",
    "[(i,j,k) for i in S for j in S for k in S if my_triple_sum(i,j,k) != 0]"
   ]
  },
  {
   "cell_type": "code",
   "execution_count": 57,
   "metadata": {},
   "outputs": [
    {
     "data": {
      "text/plain": [
       "{(-4, -4, -4),\n",
       " (-4, -4, -2),\n",
       " (-4, -4, 0),\n",
       " (-4, -4, 1),\n",
       " (-4, -4, 2),\n",
       " (-4, -4, 5),\n",
       " (-4, -2, -4),\n",
       " (-4, -2, -2),\n",
       " (-4, -2, 0),\n",
       " (-4, -2, 1),\n",
       " (-4, -2, 2),\n",
       " (-4, -2, 5),\n",
       " (-4, 0, -4),\n",
       " (-4, 0, -2),\n",
       " (-4, 0, 0),\n",
       " (-4, 0, 1),\n",
       " (-4, 0, 2),\n",
       " (-4, 0, 5),\n",
       " (-4, 1, -4),\n",
       " (-4, 1, -2),\n",
       " (-4, 1, 0),\n",
       " (-4, 1, 1),\n",
       " (-4, 1, 2),\n",
       " (-4, 1, 5),\n",
       " (-4, 2, -4),\n",
       " (-4, 2, -2),\n",
       " (-4, 2, 0),\n",
       " (-4, 2, 1),\n",
       " (-4, 2, 5),\n",
       " (-4, 5, -4),\n",
       " (-4, 5, -2),\n",
       " (-4, 5, 0),\n",
       " (-4, 5, 1),\n",
       " (-4, 5, 2),\n",
       " (-4, 5, 5),\n",
       " (-2, -4, -4),\n",
       " (-2, -4, -2),\n",
       " (-2, -4, 0),\n",
       " (-2, -4, 1),\n",
       " (-2, -4, 2),\n",
       " (-2, -4, 5),\n",
       " (-2, -2, -4),\n",
       " (-2, -2, -2),\n",
       " (-2, -2, 0),\n",
       " (-2, -2, 1),\n",
       " (-2, -2, 2),\n",
       " (-2, -2, 5),\n",
       " (-2, 0, -4),\n",
       " (-2, 0, -2),\n",
       " (-2, 0, 0),\n",
       " (-2, 0, 1),\n",
       " (-2, 0, 5),\n",
       " (-2, 1, -4),\n",
       " (-2, 1, -2),\n",
       " (-2, 1, 0),\n",
       " (-2, 1, 2),\n",
       " (-2, 1, 5),\n",
       " (-2, 2, -4),\n",
       " (-2, 2, -2),\n",
       " (-2, 2, 1),\n",
       " (-2, 2, 2),\n",
       " (-2, 2, 5),\n",
       " (-2, 5, -4),\n",
       " (-2, 5, -2),\n",
       " (-2, 5, 0),\n",
       " (-2, 5, 1),\n",
       " (-2, 5, 2),\n",
       " (-2, 5, 5),\n",
       " (0, -4, -4),\n",
       " (0, -4, -2),\n",
       " (0, -4, 0),\n",
       " (0, -4, 1),\n",
       " (0, -4, 2),\n",
       " (0, -4, 5),\n",
       " (0, -2, -4),\n",
       " (0, -2, -2),\n",
       " (0, -2, 0),\n",
       " (0, -2, 1),\n",
       " (0, -2, 5),\n",
       " (0, 0, -4),\n",
       " (0, 0, -2),\n",
       " (0, 0, 1),\n",
       " (0, 0, 2),\n",
       " (0, 0, 5),\n",
       " (0, 1, -4),\n",
       " (0, 1, -2),\n",
       " (0, 1, 0),\n",
       " (0, 1, 1),\n",
       " (0, 1, 2),\n",
       " (0, 1, 5),\n",
       " (0, 2, -4),\n",
       " (0, 2, 0),\n",
       " (0, 2, 1),\n",
       " (0, 2, 2),\n",
       " (0, 2, 5),\n",
       " (0, 5, -4),\n",
       " (0, 5, -2),\n",
       " (0, 5, 0),\n",
       " (0, 5, 1),\n",
       " (0, 5, 2),\n",
       " (0, 5, 5),\n",
       " (1, -4, -4),\n",
       " (1, -4, -2),\n",
       " (1, -4, 0),\n",
       " (1, -4, 1),\n",
       " (1, -4, 2),\n",
       " (1, -4, 5),\n",
       " (1, -2, -4),\n",
       " (1, -2, -2),\n",
       " (1, -2, 0),\n",
       " (1, -2, 2),\n",
       " (1, -2, 5),\n",
       " (1, 0, -4),\n",
       " (1, 0, -2),\n",
       " (1, 0, 0),\n",
       " (1, 0, 1),\n",
       " (1, 0, 2),\n",
       " (1, 0, 5),\n",
       " (1, 1, -4),\n",
       " (1, 1, 0),\n",
       " (1, 1, 1),\n",
       " (1, 1, 2),\n",
       " (1, 1, 5),\n",
       " (1, 2, -4),\n",
       " (1, 2, -2),\n",
       " (1, 2, 0),\n",
       " (1, 2, 1),\n",
       " (1, 2, 2),\n",
       " (1, 2, 5),\n",
       " (1, 5, -4),\n",
       " (1, 5, -2),\n",
       " (1, 5, 0),\n",
       " (1, 5, 1),\n",
       " (1, 5, 2),\n",
       " (1, 5, 5),\n",
       " (2, -4, -4),\n",
       " (2, -4, -2),\n",
       " (2, -4, 0),\n",
       " (2, -4, 1),\n",
       " (2, -4, 5),\n",
       " (2, -2, -4),\n",
       " (2, -2, -2),\n",
       " (2, -2, 1),\n",
       " (2, -2, 2),\n",
       " (2, -2, 5),\n",
       " (2, 0, -4),\n",
       " (2, 0, 0),\n",
       " (2, 0, 1),\n",
       " (2, 0, 2),\n",
       " (2, 0, 5),\n",
       " (2, 1, -4),\n",
       " (2, 1, -2),\n",
       " (2, 1, 0),\n",
       " (2, 1, 1),\n",
       " (2, 1, 2),\n",
       " (2, 1, 5),\n",
       " (2, 2, -2),\n",
       " (2, 2, 0),\n",
       " (2, 2, 1),\n",
       " (2, 2, 2),\n",
       " (2, 2, 5),\n",
       " (2, 5, -4),\n",
       " (2, 5, -2),\n",
       " (2, 5, 0),\n",
       " (2, 5, 1),\n",
       " (2, 5, 2),\n",
       " (2, 5, 5),\n",
       " (5, -4, -4),\n",
       " (5, -4, -2),\n",
       " (5, -4, 0),\n",
       " (5, -4, 1),\n",
       " (5, -4, 2),\n",
       " (5, -4, 5),\n",
       " (5, -2, -4),\n",
       " (5, -2, -2),\n",
       " (5, -2, 0),\n",
       " (5, -2, 1),\n",
       " (5, -2, 2),\n",
       " (5, -2, 5),\n",
       " (5, 0, -4),\n",
       " (5, 0, -2),\n",
       " (5, 0, 0),\n",
       " (5, 0, 1),\n",
       " (5, 0, 2),\n",
       " (5, 0, 5),\n",
       " (5, 1, -4),\n",
       " (5, 1, -2),\n",
       " (5, 1, 0),\n",
       " (5, 1, 1),\n",
       " (5, 1, 2),\n",
       " (5, 1, 5),\n",
       " (5, 2, -4),\n",
       " (5, 2, -2),\n",
       " (5, 2, 0),\n",
       " (5, 2, 1),\n",
       " (5, 2, 2),\n",
       " (5, 2, 5),\n",
       " (5, 5, -4),\n",
       " (5, 5, -2),\n",
       " (5, 5, 0),\n",
       " (5, 5, 1),\n",
       " (5, 5, 2),\n",
       " (5, 5, 5)}"
      ]
     },
     "execution_count": 57,
     "metadata": {},
     "output_type": "execute_result"
    }
   ],
   "source": [
    "# Task 0.5.16\n",
    "set([(i,j,k) for i in S for j in S for k in S if my_triple_sum(i,j,k) != 0])"
   ]
  },
  {
   "cell_type": "code",
   "execution_count": 61,
   "metadata": {},
   "outputs": [
    {
     "name": "stdout",
     "output_type": "stream",
     "text": [
      "5\n",
      "{1, 2, 3, 4}\n",
      "[1, 2, 3, 4]\n",
      "4\n"
     ]
    }
   ],
   "source": [
    "# Task 0.5.17\n",
    "L = [1,1,2,3,4]\n",
    "print(len(L))\n",
    "print(set(L))\n",
    "print(list(set(L)))\n",
    "print(len(list(set(L))))"
   ]
  },
  {
   "cell_type": "code",
   "execution_count": 3,
   "metadata": {},
   "outputs": [
    {
     "data": {
      "text/plain": [
       "[0,\n",
       " 2,\n",
       " 4,\n",
       " 6,\n",
       " 8,\n",
       " 10,\n",
       " 12,\n",
       " 14,\n",
       " 16,\n",
       " 18,\n",
       " 20,\n",
       " 22,\n",
       " 24,\n",
       " 26,\n",
       " 28,\n",
       " 30,\n",
       " 32,\n",
       " 34,\n",
       " 36,\n",
       " 38,\n",
       " 40,\n",
       " 42,\n",
       " 44,\n",
       " 46,\n",
       " 48,\n",
       " 50,\n",
       " 52,\n",
       " 54,\n",
       " 56,\n",
       " 58,\n",
       " 60,\n",
       " 62,\n",
       " 64,\n",
       " 66,\n",
       " 68,\n",
       " 70,\n",
       " 72,\n",
       " 74,\n",
       " 76,\n",
       " 78,\n",
       " 80,\n",
       " 82,\n",
       " 84,\n",
       " 86,\n",
       " 88,\n",
       " 90,\n",
       " 92,\n",
       " 94,\n",
       " 96,\n",
       " 98]"
      ]
     },
     "execution_count": 3,
     "metadata": {},
     "output_type": "execute_result"
    }
   ],
   "source": [
    "# Task 0.5.18\n",
    "[x for x in range(100) if x%2 == 0]"
   ]
  },
  {
   "cell_type": "code",
   "execution_count": 8,
   "metadata": {},
   "outputs": [
    {
     "data": {
      "text/plain": [
       "[(0, 'A'), (1, 'B'), (2, 'C'), (3, 'D'), (4, 'E')]"
      ]
     },
     "execution_count": 8,
     "metadata": {},
     "output_type": "execute_result"
    }
   ],
   "source": [
    "# Task 0.5.19\n",
    "L = ['A','B','C','D','E']\n",
    "t = list((x,y) for (x,y) in zip(range(5),L))\n",
    "t"
   ]
  },
  {
   "cell_type": "code",
   "execution_count": 13,
   "metadata": {},
   "outputs": [
    {
     "data": {
      "text/plain": [
       "[11, 40, 40]"
      ]
     },
     "execution_count": 13,
     "metadata": {},
     "output_type": "execute_result"
    }
   ],
   "source": [
    "# Task 0.5.20\n",
    "list(x+y for (x,y) in zip([10,25,20],[1,15,20]))"
   ]
  },
  {
   "cell_type": "code",
   "execution_count": 17,
   "metadata": {},
   "outputs": [
    {
     "data": {
      "text/plain": [
       "['Sean', 'Roger', 'Pierce']"
      ]
     },
     "execution_count": 17,
     "metadata": {},
     "output_type": "execute_result"
    }
   ],
   "source": [
    "# Task 0.5.21\n",
    "dlist = [{'James':'Sean', 'director':'Terence'}, {'James':'Roger', 'director':'Lewis'}, {'James':'Pierce', 'director':'Roger'}]\n",
    "k = 'James'\n",
    "[x[k] for x in dlist]"
   ]
  },
  {
   "cell_type": "code",
   "execution_count": 19,
   "metadata": {},
   "outputs": [
    {
     "name": "stdout",
     "output_type": "stream",
     "text": [
      "['Ian', 'Martin']\n",
      "['Elijah', 'NOT_PRESENT']\n"
     ]
    }
   ],
   "source": [
    "# Task 0.5.22\n",
    "dlist = [{'Bilbo':'Ian','Frodo':'Elijah'}, {'Bilbo':'Martin','Thorin':'Richard'}]\n",
    "k = 'Bilbo'\n",
    "print([x[k] if k in x else 'NOT_PRESENT' for x in dlist])\n",
    "k = 'Frodo'\n",
    "print([x[k] if k in x else 'NOT_PRESENT' for x in dlist])"
   ]
  },
  {
   "cell_type": "code",
   "execution_count": 20,
   "metadata": {},
   "outputs": [
    {
     "data": {
      "text/plain": [
       "{0: 0,\n",
       " 1: 1,\n",
       " 2: 4,\n",
       " 3: 9,\n",
       " 4: 16,\n",
       " 5: 25,\n",
       " 6: 36,\n",
       " 7: 49,\n",
       " 8: 64,\n",
       " 9: 81,\n",
       " 10: 100,\n",
       " 11: 121,\n",
       " 12: 144,\n",
       " 13: 169,\n",
       " 14: 196,\n",
       " 15: 225,\n",
       " 16: 256,\n",
       " 17: 289,\n",
       " 18: 324,\n",
       " 19: 361,\n",
       " 20: 400,\n",
       " 21: 441,\n",
       " 22: 484,\n",
       " 23: 529,\n",
       " 24: 576,\n",
       " 25: 625,\n",
       " 26: 676,\n",
       " 27: 729,\n",
       " 28: 784,\n",
       " 29: 841,\n",
       " 30: 900,\n",
       " 31: 961,\n",
       " 32: 1024,\n",
       " 33: 1089,\n",
       " 34: 1156,\n",
       " 35: 1225,\n",
       " 36: 1296,\n",
       " 37: 1369,\n",
       " 38: 1444,\n",
       " 39: 1521,\n",
       " 40: 1600,\n",
       " 41: 1681,\n",
       " 42: 1764,\n",
       " 43: 1849,\n",
       " 44: 1936,\n",
       " 45: 2025,\n",
       " 46: 2116,\n",
       " 47: 2209,\n",
       " 48: 2304,\n",
       " 49: 2401,\n",
       " 50: 2500,\n",
       " 51: 2601,\n",
       " 52: 2704,\n",
       " 53: 2809,\n",
       " 54: 2916,\n",
       " 55: 3025,\n",
       " 56: 3136,\n",
       " 57: 3249,\n",
       " 58: 3364,\n",
       " 59: 3481,\n",
       " 60: 3600,\n",
       " 61: 3721,\n",
       " 62: 3844,\n",
       " 63: 3969,\n",
       " 64: 4096,\n",
       " 65: 4225,\n",
       " 66: 4356,\n",
       " 67: 4489,\n",
       " 68: 4624,\n",
       " 69: 4761,\n",
       " 70: 4900,\n",
       " 71: 5041,\n",
       " 72: 5184,\n",
       " 73: 5329,\n",
       " 74: 5476,\n",
       " 75: 5625,\n",
       " 76: 5776,\n",
       " 77: 5929,\n",
       " 78: 6084,\n",
       " 79: 6241,\n",
       " 80: 6400,\n",
       " 81: 6561,\n",
       " 82: 6724,\n",
       " 83: 6889,\n",
       " 84: 7056,\n",
       " 85: 7225,\n",
       " 86: 7396,\n",
       " 87: 7569,\n",
       " 88: 7744,\n",
       " 89: 7921,\n",
       " 90: 8100,\n",
       " 91: 8281,\n",
       " 92: 8464,\n",
       " 93: 8649,\n",
       " 94: 8836,\n",
       " 95: 9025,\n",
       " 96: 9216,\n",
       " 97: 9409,\n",
       " 98: 9604,\n",
       " 99: 9801}"
      ]
     },
     "execution_count": 20,
     "metadata": {},
     "output_type": "execute_result"
    }
   ],
   "source": [
    "# Task 0.5.23\n",
    "{k:k*k for k in range(100)}"
   ]
  },
  {
   "cell_type": "code",
   "execution_count": 21,
   "metadata": {},
   "outputs": [
    {
     "data": {
      "text/plain": [
       "{'blue': 'blue', 'red': 'red', 'white': 'white'}"
      ]
     },
     "execution_count": 21,
     "metadata": {},
     "output_type": "execute_result"
    }
   ],
   "source": [
    "# Task 0.5.24\n",
    "D = {'red','white','blue'}\n",
    "{x:x for x in D}"
   ]
  },
  {
   "cell_type": "code",
   "execution_count": 34,
   "metadata": {},
   "outputs": [],
   "source": [
    "# Task 0.5.25 - TO DO\n",
    "base = 10\n",
    "digits = set(range(base))\n",
    "#print({x:[x,y,z for z in range(base) for y in range(base) for z in range(base)] for x in range(99)})\n",
    "# representation_dict = {x:[x // base**2 ,(x % base**2) // base, x % base] for x in range(1000)}"
   ]
  },
  {
   "cell_type": "code",
   "execution_count": null,
   "metadata": {},
   "outputs": [],
   "source": [
    "# Task 0.5.26\n"
   ]
  }
 ],
 "metadata": {
  "kernelspec": {
   "display_name": "Python 3",
   "language": "python",
   "name": "python3"
  },
  "language_info": {
   "codemirror_mode": {
    "name": "ipython",
    "version": 3
   },
   "file_extension": ".py",
   "mimetype": "text/x-python",
   "name": "python",
   "nbconvert_exporter": "python",
   "pygments_lexer": "ipython3",
   "version": "3.5.2"
  }
 },
 "nbformat": 4,
 "nbformat_minor": 2
}
