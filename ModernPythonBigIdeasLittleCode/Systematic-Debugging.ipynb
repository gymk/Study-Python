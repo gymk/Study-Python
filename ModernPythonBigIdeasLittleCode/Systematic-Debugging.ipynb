{
 "cells": [
  {
   "cell_type": "markdown",
   "metadata": {},
   "source": [
    "# Debugging Python\n",
    "- Reference\n",
    "    - <https://akaptur.com/blog/2013/07/24/systematic-debugging/>"
   ]
  },
  {
   "cell_type": "code",
   "execution_count": 1,
   "metadata": {},
   "outputs": [],
   "source": [
    "from pprint import pprint\n",
    "import re\n",
    "\n",
    "def find_all_doubles_as_word_mash():\n",
    "    words = open('sowpods.txt').read().upper()\n",
    "    letters = set('ABCDEFGHIJKLMNOPQRSTUVWXYZ')\n",
    "    dub_re = re.compile(r\"([A-Z])(\\1)\")\n",
    "    end = 0\n",
    "    dubbed = re.search(dub_re, words[end:])\n",
    "    #print(words)\n",
    "    print(dubbed)\n",
    "\n",
    "    while dubbed and letters:\n",
    "        letters -= set(dubbed.group())\n",
    "        end += dubbed.end()\n",
    "        dubbed = re.search(dub_re, words[end:])\n",
    "        #print (end, '/', len(words))\n",
    "\n",
    "    return letters"
   ]
  },
  {
   "cell_type": "code",
   "execution_count": 2,
   "metadata": {},
   "outputs": [
    {
     "name": "stdout",
     "output_type": "stream",
     "text": [
      "<_sre.SRE_Match object; span=(0, 2), match='AA'>\n",
      "<_sre.SRE_Match object; span=(0, 2), match='AA'>\n",
      "<_sre.SRE_Match object; span=(0, 2), match='AA'>\n",
      "<_sre.SRE_Match object; span=(0, 2), match='AA'>\n",
      "<_sre.SRE_Match object; span=(0, 2), match='AA'>\n",
      "<_sre.SRE_Match object; span=(0, 2), match='AA'>\n",
      "<_sre.SRE_Match object; span=(0, 2), match='AA'>\n",
      "<_sre.SRE_Match object; span=(0, 2), match='AA'>\n",
      "32.4 s ± 529 ms per loop (mean ± std. dev. of 7 runs, 1 loop each)\n"
     ]
    }
   ],
   "source": [
    "%timeit find_all_doubles_as_word_mash()"
   ]
  },
  {
   "cell_type": "code",
   "execution_count": 3,
   "metadata": {},
   "outputs": [
    {
     "name": "stdout",
     "output_type": "stream",
     "text": [
      "short: 0.009463100000004943\n",
      "long: 0.4967988999999875\n",
      "time ratios: 52.498536420383175 x\n"
     ]
    }
   ],
   "source": [
    "import timeit\n",
    "\n",
    "SETUP = \"\"\"import re;\n",
    "import string;\n",
    "double = re.compile(r\"([a-z])(\\1)\");\n",
    "short_test = \"hee\" + 'abcdefghijklmnopqrstuvwxyz';\n",
    "long_test = \"hee\" + 'abcdefghijklmnopqrstuvwxyz'*100\n",
    "\"\"\"\n",
    "\n",
    "N_TIMES = 10000\n",
    "\n",
    "def test():\n",
    "    short_time = timeit.timeit(stmt=\"double.search(short_test)\", setup=SETUP, number=N_TIMES)\n",
    "    long_time = timeit.timeit(stmt=\"double.search(long_test)\", setup=SETUP, number=N_TIMES)\n",
    "\n",
    "    print (\"short:\", short_time)\n",
    "    print (\"long:\", long_time)\n",
    "    print (\"time ratios:\", long_time / short_time, \"x\")\n",
    "\n",
    "if __name__ == '__main__':\n",
    "    test()"
   ]
  },
  {
   "cell_type": "code",
   "execution_count": null,
   "metadata": {},
   "outputs": [],
   "source": []
  },
  {
   "cell_type": "code",
   "execution_count": null,
   "metadata": {},
   "outputs": [],
   "source": []
  }
 ],
 "metadata": {
  "kernelspec": {
   "display_name": "Python 3",
   "language": "python",
   "name": "python3"
  },
  "language_info": {
   "codemirror_mode": {
    "name": "ipython",
    "version": 3
   },
   "file_extension": ".py",
   "mimetype": "text/x-python",
   "name": "python",
   "nbconvert_exporter": "python",
   "pygments_lexer": "ipython3",
   "version": "3.6.9"
  }
 },
 "nbformat": 4,
 "nbformat_minor": 4
}
