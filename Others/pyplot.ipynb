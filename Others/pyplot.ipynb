{
 "cells": [
  {
   "cell_type": "code",
   "execution_count": 1,
   "metadata": {},
   "outputs": [],
   "source": [
    "import matplotlib.pyplot as plt\n",
    "from pylab import figure\n",
    "import subprocess\n",
    "import os"
   ]
  },
  {
   "cell_type": "code",
   "execution_count": 28,
   "metadata": {},
   "outputs": [
    {
     "name": "stdout",
     "output_type": "stream",
     "text": [
      "<class 'str'> /home/kyuties/Study/python\n",
      "<class 'str'> /home/kyuties/Study/python/rand_data.out\n",
      "<class 'str'> -o /home/kyuties/Study/python/rand_data.out\n"
     ]
    },
    {
     "data": {
      "text/plain": [
       "1"
      ]
     },
     "execution_count": 28,
     "metadata": {},
     "output_type": "execute_result"
    }
   ],
   "source": [
    "# Compile C++ program from python script\n",
    "file_genererate_app = os.getcwd()\n",
    "print(type(file_genererate_app), file_genererate_app)\n",
    "file_genererate_app += '/rand_data.out'\n",
    "print(type(file_genererate_app), file_genererate_app)\n",
    "# OK ==> subprocess.call(['g++', 'rand_data.cpp', '-o rand_data.out'])\n",
    "#subprocess.call(['g++', 'rand_data.cpp', '-o ',file_genererate_app])\n",
    "cmd = '-o %s' % (file_genererate_app)\n",
    "print(type(cmd), cmd)\n",
    "subprocess.call(['g++', 'rand_data.cpp ', cmd])\n"
   ]
  },
  {
   "cell_type": "code",
   "execution_count": 8,
   "metadata": {},
   "outputs": [
    {
     "ename": "FileNotFoundError",
     "evalue": "[Errno 2] No such file or directory: '//home/kyuties/Study/pythonr/home/kyuties/Study/pythona/home/kyuties/Study/pythonn/home/kyuties/Study/pythond/home/kyuties/Study/python_/home/kyuties/Study/pythond/home/kyuties/Study/pythona/home/kyuties/Study/pythont/home/kyuties/Study/pythona/home/kyuties/Study/python./home/kyuties/Study/pythono/home/kyuties/Study/pythonu/home/kyuties/Study/pythont': '//home/kyuties/Study/pythonr/home/kyuties/Study/pythona/home/kyuties/Study/pythonn/home/kyuties/Study/pythond/home/kyuties/Study/python_/home/kyuties/Study/pythond/home/kyuties/Study/pythona/home/kyuties/Study/pythont/home/kyuties/Study/pythona/home/kyuties/Study/python./home/kyuties/Study/pythono/home/kyuties/Study/pythonu/home/kyuties/Study/pythont'",
     "output_type": "error",
     "traceback": [
      "\u001b[0;31m---------------------------------------------------------------------------\u001b[0m",
      "\u001b[0;31mFileNotFoundError\u001b[0m                         Traceback (most recent call last)",
      "\u001b[0;32m<ipython-input-8-769637508afb>\u001b[0m in \u001b[0;36m<module>\u001b[0;34m()\u001b[0m\n\u001b[1;32m      1\u001b[0m \u001b[0;31m# Generate file having random numbers for plotting test\u001b[0m\u001b[0;34m\u001b[0m\u001b[0;34m\u001b[0m\u001b[0m\n\u001b[0;32m----> 2\u001b[0;31m \u001b[0msubprocess\u001b[0m\u001b[0;34m.\u001b[0m\u001b[0mcall\u001b[0m\u001b[0;34m(\u001b[0m\u001b[0;34m[\u001b[0m\u001b[0mos\u001b[0m\u001b[0;34m.\u001b[0m\u001b[0mgetcwd\u001b[0m\u001b[0;34m(\u001b[0m\u001b[0;34m)\u001b[0m\u001b[0;34m.\u001b[0m\u001b[0mjoin\u001b[0m\u001b[0;34m(\u001b[0m\u001b[0;34m'/rand_data.out'\u001b[0m\u001b[0;34m)\u001b[0m\u001b[0;34m,\u001b[0m \u001b[0;34m'file_0_100.data 0 100'\u001b[0m\u001b[0;34m]\u001b[0m\u001b[0;34m)\u001b[0m\u001b[0;34m\u001b[0m\u001b[0m\n\u001b[0m\u001b[1;32m      3\u001b[0m \u001b[0msubprocess\u001b[0m\u001b[0;34m.\u001b[0m\u001b[0mcall\u001b[0m\u001b[0;34m(\u001b[0m\u001b[0;34m[\u001b[0m\u001b[0mos\u001b[0m\u001b[0;34m.\u001b[0m\u001b[0mgetcwd\u001b[0m\u001b[0;34m(\u001b[0m\u001b[0;34m)\u001b[0m\u001b[0;34m.\u001b[0m\u001b[0mjoin\u001b[0m\u001b[0;34m(\u001b[0m\u001b[0;34m'./rand_data.out'\u001b[0m\u001b[0;34m)\u001b[0m\u001b[0;34m,\u001b[0m \u001b[0;34m'file_0_1000.data 0 1000'\u001b[0m\u001b[0;34m]\u001b[0m\u001b[0;34m)\u001b[0m\u001b[0;34m\u001b[0m\u001b[0m\n",
      "\u001b[0;32m~/anaconda3/lib/python3.6/subprocess.py\u001b[0m in \u001b[0;36mcall\u001b[0;34m(timeout, *popenargs, **kwargs)\u001b[0m\n\u001b[1;32m    265\u001b[0m     \u001b[0mretcode\u001b[0m \u001b[0;34m=\u001b[0m \u001b[0mcall\u001b[0m\u001b[0;34m(\u001b[0m\u001b[0;34m[\u001b[0m\u001b[0;34m\"ls\"\u001b[0m\u001b[0;34m,\u001b[0m \u001b[0;34m\"-l\"\u001b[0m\u001b[0;34m]\u001b[0m\u001b[0;34m)\u001b[0m\u001b[0;34m\u001b[0m\u001b[0m\n\u001b[1;32m    266\u001b[0m     \"\"\"\n\u001b[0;32m--> 267\u001b[0;31m     \u001b[0;32mwith\u001b[0m \u001b[0mPopen\u001b[0m\u001b[0;34m(\u001b[0m\u001b[0;34m*\u001b[0m\u001b[0mpopenargs\u001b[0m\u001b[0;34m,\u001b[0m \u001b[0;34m**\u001b[0m\u001b[0mkwargs\u001b[0m\u001b[0;34m)\u001b[0m \u001b[0;32mas\u001b[0m \u001b[0mp\u001b[0m\u001b[0;34m:\u001b[0m\u001b[0;34m\u001b[0m\u001b[0m\n\u001b[0m\u001b[1;32m    268\u001b[0m         \u001b[0;32mtry\u001b[0m\u001b[0;34m:\u001b[0m\u001b[0;34m\u001b[0m\u001b[0m\n\u001b[1;32m    269\u001b[0m             \u001b[0;32mreturn\u001b[0m \u001b[0mp\u001b[0m\u001b[0;34m.\u001b[0m\u001b[0mwait\u001b[0m\u001b[0;34m(\u001b[0m\u001b[0mtimeout\u001b[0m\u001b[0;34m=\u001b[0m\u001b[0mtimeout\u001b[0m\u001b[0;34m)\u001b[0m\u001b[0;34m\u001b[0m\u001b[0m\n",
      "\u001b[0;32m~/anaconda3/lib/python3.6/subprocess.py\u001b[0m in \u001b[0;36m__init__\u001b[0;34m(self, args, bufsize, executable, stdin, stdout, stderr, preexec_fn, close_fds, shell, cwd, env, universal_newlines, startupinfo, creationflags, restore_signals, start_new_session, pass_fds, encoding, errors)\u001b[0m\n\u001b[1;32m    707\u001b[0m                                 \u001b[0mc2pread\u001b[0m\u001b[0;34m,\u001b[0m \u001b[0mc2pwrite\u001b[0m\u001b[0;34m,\u001b[0m\u001b[0;34m\u001b[0m\u001b[0m\n\u001b[1;32m    708\u001b[0m                                 \u001b[0merrread\u001b[0m\u001b[0;34m,\u001b[0m \u001b[0merrwrite\u001b[0m\u001b[0;34m,\u001b[0m\u001b[0;34m\u001b[0m\u001b[0m\n\u001b[0;32m--> 709\u001b[0;31m                                 restore_signals, start_new_session)\n\u001b[0m\u001b[1;32m    710\u001b[0m         \u001b[0;32mexcept\u001b[0m\u001b[0;34m:\u001b[0m\u001b[0;34m\u001b[0m\u001b[0m\n\u001b[1;32m    711\u001b[0m             \u001b[0;31m# Cleanup if the child failed starting.\u001b[0m\u001b[0;34m\u001b[0m\u001b[0;34m\u001b[0m\u001b[0m\n",
      "\u001b[0;32m~/anaconda3/lib/python3.6/subprocess.py\u001b[0m in \u001b[0;36m_execute_child\u001b[0;34m(self, args, executable, preexec_fn, close_fds, pass_fds, cwd, env, startupinfo, creationflags, shell, p2cread, p2cwrite, c2pread, c2pwrite, errread, errwrite, restore_signals, start_new_session)\u001b[0m\n\u001b[1;32m   1342\u001b[0m                         \u001b[0;32mif\u001b[0m \u001b[0merrno_num\u001b[0m \u001b[0;34m==\u001b[0m \u001b[0merrno\u001b[0m\u001b[0;34m.\u001b[0m\u001b[0mENOENT\u001b[0m\u001b[0;34m:\u001b[0m\u001b[0;34m\u001b[0m\u001b[0m\n\u001b[1;32m   1343\u001b[0m                             \u001b[0merr_msg\u001b[0m \u001b[0;34m+=\u001b[0m \u001b[0;34m': '\u001b[0m \u001b[0;34m+\u001b[0m \u001b[0mrepr\u001b[0m\u001b[0;34m(\u001b[0m\u001b[0merr_filename\u001b[0m\u001b[0;34m)\u001b[0m\u001b[0;34m\u001b[0m\u001b[0m\n\u001b[0;32m-> 1344\u001b[0;31m                     \u001b[0;32mraise\u001b[0m \u001b[0mchild_exception_type\u001b[0m\u001b[0;34m(\u001b[0m\u001b[0merrno_num\u001b[0m\u001b[0;34m,\u001b[0m \u001b[0merr_msg\u001b[0m\u001b[0;34m,\u001b[0m \u001b[0merr_filename\u001b[0m\u001b[0;34m)\u001b[0m\u001b[0;34m\u001b[0m\u001b[0m\n\u001b[0m\u001b[1;32m   1345\u001b[0m                 \u001b[0;32mraise\u001b[0m \u001b[0mchild_exception_type\u001b[0m\u001b[0;34m(\u001b[0m\u001b[0merr_msg\u001b[0m\u001b[0;34m)\u001b[0m\u001b[0;34m\u001b[0m\u001b[0m\n\u001b[1;32m   1346\u001b[0m \u001b[0;34m\u001b[0m\u001b[0m\n",
      "\u001b[0;31mFileNotFoundError\u001b[0m: [Errno 2] No such file or directory: '//home/kyuties/Study/pythonr/home/kyuties/Study/pythona/home/kyuties/Study/pythonn/home/kyuties/Study/pythond/home/kyuties/Study/python_/home/kyuties/Study/pythond/home/kyuties/Study/pythona/home/kyuties/Study/pythont/home/kyuties/Study/pythona/home/kyuties/Study/python./home/kyuties/Study/pythono/home/kyuties/Study/pythonu/home/kyuties/Study/pythont': '//home/kyuties/Study/pythonr/home/kyuties/Study/pythona/home/kyuties/Study/pythonn/home/kyuties/Study/pythond/home/kyuties/Study/python_/home/kyuties/Study/pythond/home/kyuties/Study/pythona/home/kyuties/Study/pythont/home/kyuties/Study/pythona/home/kyuties/Study/python./home/kyuties/Study/pythono/home/kyuties/Study/pythonu/home/kyuties/Study/pythont'"
     ]
    }
   ],
   "source": [
    "# Generate file having random numbers for plotting test fropm python script\n",
    "subprocess.call([os.getcwd().join('/rand_data.out'), 'file_0_100.data 0 100'])\n",
    "subprocess.call([os.getcwd().join('./rand_data.out'), 'file_0_1000.data 0 1000'])"
   ]
  },
  {
   "cell_type": "code",
   "execution_count": null,
   "metadata": {},
   "outputs": [],
   "source": [
    "mylist = [1, 2, 3, 4]\n",
    "\n",
    "def plot_list(mylist, disp_pattern='b-'):\n",
    "    print(\"Type of mylist : \", type(mylist))\n",
    "    plt.plot(mylist, disp_pattern)\n",
    "    plt.ylabel(\"y-axis\")\n",
    "    plt.xlabel(\"x-axis\")\n",
    "    plt.show()\n",
    "    \n",
    "plot_list(mylist)\n",
    "plot_list(mylist, 'ro')\n",
    "\n",
    "#mylist = list(range(10))\n",
    "mylist = range(10)\n",
    "plot_list(mylist)\n",
    "plot_list(mylist, 'ro')"
   ]
  },
  {
   "cell_type": "code",
   "execution_count": null,
   "metadata": {},
   "outputs": [],
   "source": [
    "mylist =[[1, 2, 3, 4], [5, 6, 7, 8], [13,12,11,10], [1, 1, 1, 1]]\n",
    "plot_list(mylist)\n",
    "plot_list(mylist, 'ro')"
   ]
  },
  {
   "cell_type": "code",
   "execution_count": null,
   "metadata": {},
   "outputs": [],
   "source": [
    "mylist=[[1, 5, 9], [2, 6, 10], [3, 7, 11], [4, 8, 12]]\n",
    "plot_list(mylist)\n",
    "plot_list(mylist, 'ro')"
   ]
  },
  {
   "cell_type": "code",
   "execution_count": null,
   "metadata": {},
   "outputs": [],
   "source": [
    "plt.plot([1, 2, 3, 4], [5, 6, 7, 8], 'ro')\n",
    "plt.show()"
   ]
  },
  {
   "cell_type": "code",
   "execution_count": null,
   "metadata": {},
   "outputs": [],
   "source": [
    "def plot_file(infile, outfile):\n",
    "    with open(infile) as f:\n",
    "        for line in f:\n",
    "            fig = plt.plot(int(line))\n",
    "        #plt.show()\n",
    "        plt.savefig(outfile, dpi=100)\n",
    "        \n",
    "        \n",
    "plot_file(\"file1_0_100.dat\", \"file_0_100.png\")\n",
    "plot_file(\"file1_0_1000.dat\", \"file_0_1000.png\")"
   ]
  },
  {
   "cell_type": "code",
   "execution_count": null,
   "metadata": {},
   "outputs": [],
   "source": [
    "def plot_file_2(infile, outfile):\n",
    "    plt.plotfile(infile)\n",
    "    plt.savefig(outfile)\n",
    "    \n",
    "plot_file_2(\"file1_0_100.dat\", \"file_0_100.png\")\n",
    "plot_file_2(\"file1_0_1000.dat\", \"file_0_1000.png\")"
   ]
  },
  {
   "cell_type": "code",
   "execution_count": null,
   "metadata": {},
   "outputs": [],
   "source": [
    "# print current figure size\n",
    "#fig_size = plt.rcParams[plt.figure]\n",
    "fig_size = plt.rcParams[\"figure.figsize\"]\n",
    "print(type(fig_size), fig_size)"
   ]
  },
  {
   "cell_type": "code",
   "execution_count": null,
   "metadata": {
    "collapsed": true
   },
   "outputs": [],
   "source": [
    "# Set figure width to 12 and height to 9\n",
    "fig_size[0] = 1200\n",
    "fig_size[1] = 900\n",
    "plt.rcParams[\"figure.figsize\"] = fig_size"
   ]
  },
  {
   "cell_type": "code",
   "execution_count": null,
   "metadata": {
    "collapsed": true
   },
   "outputs": [],
   "source": []
  }
 ],
 "metadata": {
  "kernelspec": {
   "display_name": "Python 3",
   "language": "python",
   "name": "python3"
  },
  "language_info": {
   "codemirror_mode": {
    "name": "ipython",
    "version": 3
   },
   "file_extension": ".py",
   "mimetype": "text/x-python",
   "name": "python",
   "nbconvert_exporter": "python",
   "pygments_lexer": "ipython3",
   "version": "3.6.3"
  }
 },
 "nbformat": 4,
 "nbformat_minor": 2
}
